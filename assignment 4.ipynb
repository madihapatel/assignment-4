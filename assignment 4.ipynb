{
 "cells": [
  {
   "cell_type": "code",
   "execution_count": 3,
   "id": "dd6ff146-a6cd-4e07-8573-5b216c838437",
   "metadata": {},
   "outputs": [
    {
     "name": "stdout",
     "output_type": "stream",
     "text": [
      "Addition: 10 + 3 = 13\n",
      "Subtraction: 10 - 3 = 7\n",
      "Multiplication: 10 * 3 = 30\n",
      "Division: 10 / 3 = 3.3333333333333335\n",
      "Modulus: 10 % 3 = 1\n",
      "Exponentiation: 10 ** 3 = 1000\n",
      "Floor Division: 10 // 3 = 3\n"
     ]
    }
   ],
   "source": [
    "# Question 1 \n",
    "a = 10\n",
    "b = 3\n",
    "\n",
    "# Addition\n",
    "addition = a + b\n",
    "print(f\"Addition: {a} + {b} = {addition}\")\n",
    "\n",
    "# Subtraction\n",
    "subtraction = a - b\n",
    "print(f\"Subtraction: {a} - {b} = {subtraction}\")\n",
    "\n",
    "# Multiplication\n",
    "multiplication = a * b\n",
    "print(f\"Multiplication: {a} * {b} = {multiplication}\")\n",
    "\n",
    "# Division\n",
    "division = a / b\n",
    "print(f\"Division: {a} / {b} = {division}\")\n",
    "\n",
    "# Modulus\n",
    "modulus = a % b\n",
    "print(f\"Modulus: {a} % {b} = {modulus}\")\n",
    "\n",
    "# Exponentiation\n",
    "exponentiation = a ** b\n",
    "print(f\"Exponentiation: {a} ** {b} = {exponentiation}\")\n",
    "\n",
    "# Floor Division\n",
    "floor_division = a // b\n",
    "print(f\"Floor Division: {a} // {b} = {floor_division}\")"
   ]
  },
  {
   "cell_type": "code",
   "execution_count": 5,
   "id": "fd116440-4729-48b4-8e2c-8a208aa400d8",
   "metadata": {},
   "outputs": [
    {
     "name": "stdout",
     "output_type": "stream",
     "text": [
      "True\n",
      "True\n",
      "False\n",
      "False\n",
      "False\n",
      "False\n",
      "True\n",
      "True\n"
     ]
    }
   ],
   "source": [
    "# Question 2 \n",
    "a = 10\n",
    "b = 20\n",
    "x = \"apple\"\n",
    "y = \"banana\"\n",
    "\n",
    "# Less than\n",
    "print(a < b)  \n",
    "print(x < y)  \n",
    "\n",
    "# Greater than\n",
    "print(a > b) \n",
    "print(x > y) \n",
    "\n",
    "# Equal to\n",
    "print(a == b)  \n",
    "print(x == y)  \n",
    "\n",
    "# Not equal to\n",
    "print(a != b)  \n",
    "print(x != y) "
   ]
  },
  {
   "cell_type": "code",
   "execution_count": 7,
   "id": "df081462-3386-46d7-9b55-bbad2a790c6c",
   "metadata": {},
   "outputs": [
    {
     "name": "stdout",
     "output_type": "stream",
     "text": [
      "True\n",
      "False\n",
      "False\n",
      "True\n"
     ]
    }
   ],
   "source": [
    "# Question 3\n",
    "string = \"Python Is Powerful language\"\n",
    "substring1 = \"Powerful\"\n",
    "substring2 = \"easy\"\n",
    "\n",
    "# Check for presence\n",
    "print(substring1 in string)  \n",
    "print(substring2 in string) \n",
    "\n",
    "# Check for absence\n",
    "print(substring1 not in string)  \n",
    "print(substring2 not in string) "
   ]
  },
  {
   "cell_type": "code",
   "execution_count": 9,
   "id": "bf8d3d5b-a86f-4d55-a175-5cf2ea5b6a4f",
   "metadata": {},
   "outputs": [
    {
     "name": "stdout",
     "output_type": "stream",
     "text": [
      "1\n",
      "2\n",
      "3\n",
      "4\n",
      "5\n"
     ]
    }
   ],
   "source": [
    "# Question 4 \n",
    "my_list = [1, 2, 3, 4, 5]\n",
    "\n",
    "for element in my_list:\n",
    "    print(element)"
   ]
  },
  {
   "cell_type": "code",
   "execution_count": 11,
   "id": "2034c2b8-60a1-439a-a2aa-7e51112d3554",
   "metadata": {},
   "outputs": [
    {
     "name": "stdout",
     "output_type": "stream",
     "text": [
      "10\n",
      "9\n",
      "8\n",
      "7\n",
      "6\n",
      "5\n",
      "4\n",
      "3\n",
      "2\n",
      "1\n"
     ]
    }
   ],
   "source": [
    "# Question 5 \n",
    "for number in range(10, 0, -1):\n",
    "    print(number)"
   ]
  },
  {
   "cell_type": "code",
   "execution_count": 13,
   "id": "508a7bec-18f2-48af-bbeb-6b13c3b20c82",
   "metadata": {},
   "outputs": [
    {
     "name": "stdout",
     "output_type": "stream",
     "text": [
      "[1, 'two', 3.0, [4, 'five'], True]\n"
     ]
    }
   ],
   "source": [
    "# Question 7 \n",
    "mixed_list = [1, \"two\", 3.0, [4, \"five\"], True]\n",
    "print(mixed_list)"
   ]
  },
  {
   "cell_type": "code",
   "execution_count": 15,
   "id": "cf61eeec-53a0-4c48-bd0d-47011a3ac9a4",
   "metadata": {},
   "outputs": [
    {
     "name": "stdout",
     "output_type": "stream",
     "text": [
      "After append: [1, 2, 3, 4, 5, 6]\n",
      "After insert: [1, 2, 'inserted', 3, 4, 5, 6]\n",
      "After remove: [1, 2, 3, 4, 5, 6]\n",
      "After pop: [1, 2, 3, 5, 6]\n",
      "After delete: [2, 3, 5, 6]\n"
     ]
    }
   ],
   "source": [
    "# Question 9 \n",
    "my_list = [1, 2, 3, 4, 5]\n",
    "\n",
    "# Append\n",
    "my_list.append(6)\n",
    "print(f\"After append: {my_list}\")\n",
    "\n",
    "# Insert\n",
    "my_list.insert(2, \"inserted\")\n",
    "print(f\"After insert: {my_list}\")\n",
    "\n",
    "# Remove\n",
    "my_list.remove(\"inserted\")\n",
    "print(f\"After remove: {my_list}\")\n",
    "\n",
    "# Pop\n",
    "my_list.pop(3)\n",
    "print(f\"After pop: {my_list}\")\n",
    "\n",
    "# Delete\n",
    "del my_list[0]\n",
    "print(f\"After delete: {my_list}\")\n",
    "\n",
    "\n",
    "\n"
   ]
  },
  {
   "cell_type": "code",
   "execution_count": 17,
   "id": "43460123-7a3e-4bc6-a17a-de026980d9c2",
   "metadata": {},
   "outputs": [
    {
     "name": "stdout",
     "output_type": "stream",
     "text": [
      "1\n",
      "2\n",
      "3\n",
      "4\n",
      "power\n",
      "True\n",
      "one\n",
      "two\n",
      "Three\n",
      "Data\n",
      "False\n",
      "Data is present in the list.\n"
     ]
    }
   ],
   "source": [
    "# Question 10 \n",
    "list_1 = [1, 2, 3, 4, \"power\", True]\n",
    "list_2 = [\"one\", \"two\", \"Three\", \"Data\", False]\n",
    "\n",
    "# Join two lists\n",
    "joined_list = list_1 + list_2\n",
    "\n",
    "\n",
    "for item in joined_list:\n",
    "    print(item)\n",
    "\n",
    "# Check if \"data\" is present in the list\n",
    "if \"Data\" in joined_list:\n",
    "    print(\"Data is present in the list.\")\n",
    "else:\n",
    "    print(\"Data is not present in the list.\")"
   ]
  },
  {
   "cell_type": "code",
   "execution_count": null,
   "id": "05c41ae5-4f26-4a24-800b-a26e1e46119a",
   "metadata": {},
   "outputs": [],
   "source": []
  }
 ],
 "metadata": {
  "kernelspec": {
   "display_name": "Python 3 (ipykernel)",
   "language": "python",
   "name": "python3"
  },
  "language_info": {
   "codemirror_mode": {
    "name": "ipython",
    "version": 3
   },
   "file_extension": ".py",
   "mimetype": "text/x-python",
   "name": "python",
   "nbconvert_exporter": "python",
   "pygments_lexer": "ipython3",
   "version": "3.12.4"
  }
 },
 "nbformat": 4,
 "nbformat_minor": 5
}
